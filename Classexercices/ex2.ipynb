{
 "cells": [
  {
   "cell_type": "code",
   "execution_count": 1,
   "id": "04c2095e",
   "metadata": {},
   "outputs": [],
   "source": [
    "import numpy as np"
   ]
  },
  {
   "cell_type": "code",
   "execution_count": 3,
   "id": "27548e30",
   "metadata": {},
   "outputs": [
    {
     "name": "stdout",
     "output_type": "stream",
     "text": [
      "[[ 0  4  8 12 16]\n",
      " [ 1  5  9 13 17]\n",
      " [ 2  6 10 14 18]\n",
      " [ 3  7 11 15 19]]\n"
     ]
    }
   ],
   "source": [
    "#generate arr1:\n",
    "\n",
    "#[[ 0  4  8 12 16]\n",
    "# [ 1  5  9 13 17]\n",
    "# [ 2  6 10 14 18]\n",
    "# [ 3  7 11 15 19]]\n",
    "arr = np.arange(0, 20)\n",
    "arr1 = arr.reshape((4, 5), order='F')\n",
    "print(arr1)"
   ]
  },
  {
   "cell_type": "code",
   "execution_count": 5,
   "id": "05f29aaa",
   "metadata": {},
   "outputs": [
    {
     "name": "stdout",
     "output_type": "stream",
     "text": [
      "[[ 0  1  4  9 16]\n",
      " [ 1  4  9 16 25]\n",
      " [ 4  9 16 25 36]\n",
      " [ 9 16 25 36 49]]\n",
      "[[ 0  1  4  9 16]\n",
      " [ 1  4  9 16 25]\n",
      " [ 4  9 16 25 36]\n",
      " [ 9 16 25 36 49]]\n",
      "[[ 0  1  4  9 16]\n",
      " [ 1  4  9 16 25]\n",
      " [ 4  9 16 25 36]\n",
      " [ 9 16 25 36 49]]\n"
     ]
    }
   ],
   "source": [
    "#generate arr2\n",
    "\n",
    "#[[ 0  1  4  9 16]\n",
    "# [ 1  4  9 16 25]\n",
    "# [ 4  9 16 25 36]\n",
    "# [ 9 16 25 36 49]]\n",
    "\n",
    "# method 1: with a single for loop\n",
    "\n",
    "arr2 = np.empty((4, 5), dtype=int)\n",
    "for i in range(4):\n",
    "    arr2[i] = np.arange(0+i, 5+i)**2\n",
    "\n",
    "print(arr2)\n",
    "\n",
    "# method 2: tile method\n",
    "\n",
    "A = np.tile(np.arange(5), (4,1))\n",
    "B = np.tile(np.arange(4), (5,1)).T\n",
    "arr2 = (A+B)**2\n",
    "print(arr2)\n",
    "\n",
    "# method 3: with mgrid method\n",
    "\n",
    "A, B = np.mgrid[0:4, 0:5]\n",
    "arr2 = (A+B)**2\n",
    "print(arr2)"
   ]
  },
  {
   "cell_type": "code",
   "execution_count": 6,
   "id": "e347a570",
   "metadata": {},
   "outputs": [
    {
     "name": "stdout",
     "output_type": "stream",
     "text": [
      "[[0 1 0 1 0 1]\n",
      " [1 0 1 0 1 0]\n",
      " [0 1 0 1 0 1]\n",
      " [1 0 1 0 1 0]\n",
      " [0 1 0 1 0 1]\n",
      " [1 0 1 0 1 0]]\n"
     ]
    }
   ],
   "source": [
    "#generate arr3\n",
    "\n",
    "#[[0 1 0 1 0 1]\n",
    "# [1 0 1 0 1 0]\n",
    "# [0 1 0 1 0 1]\n",
    "# [1 0 1 0 1 0]\n",
    "# [0 1 0 1 0 1]\n",
    "# [1 0 1 0 1 0]]\n",
    "\n",
    "arr = [[0, 1], [1, 0]]\n",
    "\n",
    "arr3 = np.tile(arr, (3, 3))\n",
    "print(arr3)"
   ]
  },
  {
   "cell_type": "code",
   "execution_count": 11,
   "id": "bcd3431b",
   "metadata": {},
   "outputs": [
    {
     "name": "stdout",
     "output_type": "stream",
     "text": [
      "[[ 0  4  8 12 16]\n",
      " [ 1  5  9 13 17]\n",
      " [ 2  6 10 14 18]\n",
      " [ 3  7 11 15 19]]\n",
      "[[ 6 18 10]\n",
      " [ 7 19 11]\n",
      " [ 5 17  9]]\n"
     ]
    }
   ],
   "source": [
    "#a[start:stop]  # items start through stop-1\n",
    "#a[start:]      # items start through the rest of the array\n",
    "#a[:stop]       # items from the beginning through stop-1\n",
    "#a[:]           # a copy of the whole array\n",
    "\n",
    "#a[start:stop:step] # start through not past stop, by step\n",
    "\n",
    "#a[-1]    # last item in the array\n",
    "#a[-2:]   # last two items in the array\n",
    "#a[:-2]   # everything except the last two items\n",
    "\n",
    "#a[::-1]    # all items in the array, reversed\n",
    "#a[1::-1]   # the first two items, reversed\n",
    "#a[:-3:-1]  # the last two items, reversed\n",
    "#a[-3::-1]  # everything except the last two items, reversed\n",
    "\n",
    "#a[start:stop:step] is equivalent to: a[slice(start, stop, step)]\n",
    "\n",
    "#extract from arr1\n",
    "\n",
    "#[[ 6 18 10]\n",
    "# [ 7 19 11]\n",
    "# [ 5 17  9]]\n",
    "\n",
    "print(arr1)\n",
    "arr = arr1[[2, 3, 1], :]\n",
    "arr = arr[:, [1, 4, 2]]\n",
    "print(arr)\n"
   ]
  },
  {
   "cell_type": "code",
   "execution_count": 8,
   "id": "fe0ed04b",
   "metadata": {},
   "outputs": [
    {
     "name": "stdout",
     "output_type": "stream",
     "text": [
      "[[0 1 0 1 0 1]\n",
      " [1 0 1 0 1 0]\n",
      " [0 1 0 1 0 1]\n",
      " [1 0 1 0 1 0]\n",
      " [0 1 0 1 0 1]\n",
      " [1 0 1 0 1 0]]\n",
      "[[-1  1 -1  1 -1  1]\n",
      " [ 1 -1  1 -1  1 -1]\n",
      " [-1  1 -1  1 -1  1]\n",
      " [ 1 -1  1 -1  1 -1]\n",
      " [-1  1 -1  1 -1  1]\n",
      " [ 1 -1  1 -1  1 -1]]\n"
     ]
    }
   ],
   "source": [
    "#Replace all the items with value 0 of arr3 by -1\n",
    "print(arr3)\n",
    "arr3[arr3 == 0] = -1\n",
    "print(arr3)"
   ]
  },
  {
   "cell_type": "code",
   "execution_count": 13,
   "id": "9280db72",
   "metadata": {},
   "outputs": [
    {
     "name": "stdout",
     "output_type": "stream",
     "text": [
      "[0.04314016 0.66661053 0.05237606 0.41860588 0.13572803 0.66466262\n",
      " 0.80793444 0.86294351 0.72646594 0.9892431  0.95884199 0.519671\n",
      " 0.91147144 0.37475146 0.86596645 0.06410541 0.26700592 0.11173049\n",
      " 0.54011008 0.74951343]\n",
      "[ 0.04314016  0.66661053  0.05237606  0.41860588  0.13572803  0.66466262\n",
      "  0.80793444  0.86294351  0.72646594 -1.         -2.          0.519671\n",
      "  0.91147144  0.37475146  0.86596645  0.06410541  0.26700592  0.11173049\n",
      "  0.54011008  0.74951343]\n"
     ]
    }
   ],
   "source": [
    "#Create a random vector of size 20 (all values between [0,1)) \n",
    "#and replace:the maximum value by −1and the second maximum value by −2\n",
    "\n",
    "arr = np.random.rand(20)\n",
    "print(arr)\n",
    "arr[np.argmax(arr)] = -1\n",
    "arr[np.argmax(arr)] = -2\n",
    "print(arr)"
   ]
  },
  {
   "cell_type": "code",
   "execution_count": 10,
   "id": "19eff8b9",
   "metadata": {},
   "outputs": [
    {
     "name": "stdout",
     "output_type": "stream",
     "text": [
      "[[ 0  4  8 12 16]\n",
      " [ 1  5  9 13 17]\n",
      " [ 2  6 10 14 18]\n",
      " [ 3  7 11 15 19]]\n",
      "9.5\n",
      "[[-1.34164079 -1.34164079 -1.34164079 -1.34164079 -1.34164079]\n",
      " [-0.4472136  -0.4472136  -0.4472136  -0.4472136  -0.4472136 ]\n",
      " [ 0.4472136   0.4472136   0.4472136   0.4472136   0.4472136 ]\n",
      " [ 1.34164079  1.34164079  1.34164079  1.34164079  1.34164079]]\n",
      "[0. 0. 0. 0. 0.]\n",
      "[1. 1. 1. 1. 1.]\n"
     ]
    }
   ],
   "source": [
    "arr = np.arange(0, 20)\n",
    "arr1 = arr.reshape((4, 5), order='F')\n",
    "print(arr1)\n",
    "\n",
    "np.mean(arr1) # calculates the mean of the array arr1\n",
    "print(arr1.mean())\n",
    "\n",
    "#the mean of each column is 0\n",
    "normed = (arr1 - arr1.mean(axis=0)) / arr1.std(axis=0)\n",
    "print(normed)\n",
    "print(normed.mean(axis=0))\n",
    "\n",
    "\n",
    "#the standard deviation of each column is 1\n",
    "normed.std(axis=0)\n",
    "print(normed.std(axis=0))"
   ]
  },
  {
   "cell_type": "code",
   "execution_count": 14,
   "id": "09bcb899",
   "metadata": {},
   "outputs": [
    {
     "name": "stdout",
     "output_type": "stream",
     "text": [
      "[[0.47290302 0.87904604 0.84863549]\n",
      " [0.5694917  0.62999019 0.38379933]\n",
      " [0.89995326 0.48824797 0.8627575 ]]\n",
      "[[0.22363727 0.50060943 0.76373228]\n",
      " [0.50060943 0.39688764 0.18738924]\n",
      " [0.76373228 0.18738924 0.74435051]]\n",
      "[0.08709131 0.30494596 0.54427692]\n",
      "[ 0.74463021 -0.17635892  0.01158937]\n",
      "the linear system \"Ax=b\" is:\n"
     ]
    },
    {
     "data": {
      "text/plain": [
       "True"
      ]
     },
     "execution_count": 14,
     "metadata": {},
     "output_type": "execute_result"
    }
   ],
   "source": [
    "#Let A be a matrix and b be a vector defined by:\n",
    "#>>> V = np.random.rand(3, 3)\n",
    "#>>> A = V + V.T\n",
    "#>>> b = np.random.rand(3)\n",
    "\n",
    "#Solve the linear system Ax=b\n",
    "\n",
    "V = np.random.rand(3, 3)\n",
    "print(V)\n",
    "A = (V * (V.T))\n",
    "print(A)\n",
    "b = np.random.rand(3)\n",
    "print(b)\n",
    "\n",
    "x = np.linalg.solve(A, b)\n",
    "print(x)\n",
    "\n",
    "print('the linear system \"Ax=b\" is:')\n",
    "np.allclose(np.dot(A, x), b)\n"
   ]
  },
  {
   "cell_type": "code",
   "execution_count": null,
   "id": "e62095a3",
   "metadata": {},
   "outputs": [],
   "source": []
  }
 ],
 "metadata": {
  "kernelspec": {
   "display_name": "Python 3",
   "language": "python",
   "name": "python3"
  },
  "language_info": {
   "codemirror_mode": {
    "name": "ipython",
    "version": 3
   },
   "file_extension": ".py",
   "mimetype": "text/x-python",
   "name": "python",
   "nbconvert_exporter": "python",
   "pygments_lexer": "ipython3",
   "version": "3.8.8"
  }
 },
 "nbformat": 4,
 "nbformat_minor": 5
}
