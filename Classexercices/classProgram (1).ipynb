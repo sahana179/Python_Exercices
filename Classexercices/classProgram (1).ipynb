{
 "cells": [
  {
   "cell_type": "code",
   "execution_count": 1,
   "id": "97b16241",
   "metadata": {},
   "outputs": [
    {
     "name": "stdout",
     "output_type": "stream",
     "text": [
      "car            0              1              4              9              16\n",
      "bus            1              4              9              16             25\n",
      "train          4              9              16             25             36\n",
      "boat           9              16             25             36             49\n"
     ]
    }
   ],
   "source": [
    "listTpPrint = [\n",
    "                 ['car', 0, 1, 4, 9, 16],\n",
    "                 ['bus', 1, 4, 9, 16, 25],\n",
    "                 ['train', 4, 9, 16, 25, 36],\n",
    "                 ['boat', 9, 16, 25, 36, 49]\n",
    "               ]\n",
    "\n",
    "\n",
    "\n",
    "for i in range(len(listTpPrint)):\n",
    "    \n",
    "    indexVar = 0\n",
    "    \n",
    "    stringToPrint = \"\"\n",
    "    \n",
    "    spaceChar = \" \"\n",
    "    \n",
    "    \n",
    "    while(indexVar < len(listTpPrint[i])):\n",
    "        \n",
    "        if(indexVar == 0):\n",
    "            \n",
    "            stringToPrint =  str(listTpPrint[i][indexVar])\n",
    "            \n",
    "        else:\n",
    "             spaceVal = 15 - len(str(listTpPrint[i][indexVar-1])) \n",
    "             \n",
    "             stringToPrint = stringToPrint + spaceVal * spaceChar + str(listTpPrint[i][indexVar])\n",
    "        \n",
    "        indexVar = indexVar+1\n",
    "        \n",
    "    print(stringToPrint)"
   ]
  },
  {
   "cell_type": "code",
   "execution_count": 2,
   "id": "ac89c0f3",
   "metadata": {},
   "outputs": [
    {
     "name": "stdout",
     "output_type": "stream",
     "text": [
      "[{'Name': 'NeurIPS', 'Date': 2016, 'Location': 'Barcelona', 'acc_papers': 300, 'field registrations': 600}, {'Name': 'ICML', 'Date': 2016, 'Location': 'New York City', 'acc_papers': 450, 'field registrations': 900}, {'Name': 'ICML', 'Date': 2015, 'Location': 'Lille', 'acc_papers': 250, 'field registrations': 500}, {'Name': 'AISTATS', 'Date': 2016, 'Location': 'Cadiz', 'acc_papers': 100, 'field registrations': 200}]\n"
     ]
    }
   ],
   "source": [
    "confs = [{\"Name\": \"NeurIPS\", \"Date\": 2016, \"Location\": \"Barcelona\", \"acc_papers\": 300},\n",
    "         {\"Name\": \"ICML\", \"Date\": 2016, \"Location\": \"New York City\", \"acc_papers\": 450},\n",
    "         {\"Name\": \"ICML\", \"Date\": 2015, \"Location\": \"Lille\", \"acc_papers\": 250},\n",
    "         {\"Name\": \"AISTATS\", \"Date\": 2016, \"Location\": \"Cadiz\", \"acc_papers\": 100}]\n",
    "\n",
    "    \n",
    "for i in range(len(confs)):\n",
    "    \n",
    "    confs[i][\"field registrations\"] = confs[i][\"acc_papers\"] * 2\n",
    "    \n",
    "print(confs)"
   ]
  },
  {
   "cell_type": "code",
   "execution_count": 3,
   "id": "e418bdf0",
   "metadata": {},
   "outputs": [
    {
     "name": "stdout",
     "output_type": "stream",
     "text": [
      "p1 = (1, -1, 1)\n",
      "p2 = (1, 1, 3)\n",
      "p3 = (2, 0, 4)\n"
     ]
    }
   ],
   "source": [
    "class Point:\n",
    "    \"\"\"\n",
    "    Definition of the class \"Point\"\n",
    "    \"\"\"\n",
    "    def __init__(self, x, y ,z):          \n",
    "        self.x = x                     \n",
    "        self.y = y  \n",
    "        self.z = z                   \n",
    "        self.norm = self.compute_norm()\n",
    "\n",
    "    def compute_norm(self):\n",
    "        norm = (self.x**2 + self.y**2 + self.z ** 2)**(0.5) \n",
    "        return norm\n",
    "\n",
    "    def __add__(self, another_point) :\n",
    "         return Point(self.x + another_point.x, self.y + another_point.y,self.z + another_point.z)\n",
    "     \n",
    "p1 = Point(1, -1, 1)\n",
    "p2 = Point(1, 1, 3)\n",
    "p3 = p1 + p2\n",
    "\n",
    "print(f\"p1 = ({p1.x}, {p1.y}, {p1.z})\")\n",
    "print(f\"p2 = ({p2.x}, {p2.y}, {p2.z})\")\n",
    "print(f\"p3 = ({p3.x}, {p3.y}, {p3.z})\")"
   ]
  },
  {
   "cell_type": "code",
   "execution_count": 4,
   "id": "a75f2283",
   "metadata": {},
   "outputs": [
    {
     "name": "stdout",
     "output_type": "stream",
     "text": [
      "13\n"
     ]
    }
   ],
   "source": [
    "def fibi(n):\n",
    "    if n==0:\n",
    "        return 0;\n",
    "    elif n==1:\n",
    "        return 1;\n",
    "    else:\n",
    "        return fibi(n-1) + fibi(n-2)\n",
    "    \n",
    "retVal = fibi(7)\n",
    "\n",
    "print(retVal)"
   ]
  },
  {
   "cell_type": "code",
   "execution_count": 6,
   "id": "721f202f",
   "metadata": {},
   "outputs": [
    {
     "name": "stdout",
     "output_type": "stream",
     "text": [
      "[0, 2]\n",
      "[0, 2, '-1']\n"
     ]
    }
   ],
   "source": [
    "def include(inputList):\n",
    "    inputList.append(2)\n",
    "    print(inputList)\n",
    "    inputList.append('-1')\n",
    "    print(inputList)\n",
    "    \n",
    "ListAsInput = [0]\n",
    "\n",
    "include(ListAsInput)\n",
    "        "
   ]
  },
  {
   "cell_type": "code",
   "execution_count": null,
   "id": "5487f7e8",
   "metadata": {},
   "outputs": [],
   "source": []
  }
 ],
 "metadata": {
  "kernelspec": {
   "display_name": "Python 3",
   "language": "python",
   "name": "python3"
  },
  "language_info": {
   "codemirror_mode": {
    "name": "ipython",
    "version": 3
   },
   "file_extension": ".py",
   "mimetype": "text/x-python",
   "name": "python",
   "nbconvert_exporter": "python",
   "pygments_lexer": "ipython3",
   "version": "3.8.8"
  }
 },
 "nbformat": 4,
 "nbformat_minor": 5
}
