{
 "cells": [
  {
   "cell_type": "code",
   "execution_count": 1,
   "id": "be6ac5de",
   "metadata": {},
   "outputs": [
    {
     "data": {
      "text/plain": [
       "[['car', 0, 1, 4, 9, 16],\n",
       " ['bus', 1, 4, 9, 16, 25],\n",
       " ['train', 4, 9, 16, 25, 36],\n",
       " ['boat', 9, 16, 25, 36, 49]]"
      ]
     },
     "execution_count": 1,
     "metadata": {},
     "output_type": "execute_result"
    }
   ],
   "source": [
    "#Create the following list with loops:\n",
    "\n",
    "#[['car', 0, 1, 4, 9, 16],\n",
    "# ['bus', 1, 4, 9, 16, 25],\n",
    "# ['train', 4, 9, 16, 25, 36],\n",
    "# ['boat', 9, 16, 25, 36, 49]]\n",
    "\n",
    "#Create a script that prints this list in the following manner:\n",
    "\n",
    "#car      0    1    4    9   16\n",
    "#bus      1    4    9   16   25\n",
    "#train    4    9   16   25   36\n",
    "#boat     9    16  25   36   49\n",
    "\n",
    "trans = [\"car\", \"bus\", \"train\", \"boat\"]\n",
    "total = []\n",
    "\n",
    "for a in range(4):\n",
    "    temp = []\n",
    "    temp.append(trans[a])\n",
    "    for b in range(1,6):\n",
    "        temp.append(a**2)\n",
    "        a = a + 1 # it works but dangerous\n",
    "    total.append(temp)\n",
    "\n",
    "total"
   ]
  },
  {
   "cell_type": "code",
   "execution_count": 2,
   "id": "e4e2a980",
   "metadata": {},
   "outputs": [
    {
     "data": {
      "text/plain": [
       "[['car', 0, 1, 4, 9, 16],\n",
       " ['bus', 1, 4, 9, 16, 25],\n",
       " ['train', 4, 9, 16, 25, 36],\n",
       " ['boat', 9, 16, 25, 36, 49]]"
      ]
     },
     "execution_count": 2,
     "metadata": {},
     "output_type": "execute_result"
    }
   ],
   "source": [
    "x = ['car','bus','train','boat']\n",
    "odd = [i**2 for i in range(15)]\n",
    "\n",
    "num = []\n",
    "lign = 0 # not needed\n",
    "index = 0 # not needed\n",
    "temp = [] # not needed\n",
    "for lign in range(4):\n",
    "    temp = []\n",
    "    temp.append(x[lign])\n",
    "    for index in range(5):\n",
    "        temp.append( odd[index+lign] )\n",
    "    num.append(temp)\n",
    "    \n",
    "num"
   ]
  },
  {
   "cell_type": "code",
   "execution_count": 3,
   "id": "22da1c54",
   "metadata": {},
   "outputs": [
    {
     "data": {
      "text/plain": [
       "[['car', 0, 1, 4, 9, 16],\n",
       " ['bus', 1, 4, 9, 16, 25],\n",
       " ['train', 4, 9, 16, 25, 36],\n",
       " ['boat', 9, 16, 25, 36, 49]]"
      ]
     },
     "execution_count": 3,
     "metadata": {},
     "output_type": "execute_result"
    }
   ],
   "source": [
    "# There are many ways to do it.\n",
    "transports = [\"car\", \"bus\", \"train\", \"boat\"]\n",
    "\n",
    "L = [] # my final list (of lists)\n",
    "for index, transport in enumerate(transports):\n",
    "    line = [transport] + [i**2 for i in range(index, 5+index)]\n",
    "    L.append(line)\n",
    "    \n",
    "L"
   ]
  },
  {
   "cell_type": "code",
   "execution_count": 4,
   "id": "30362eda",
   "metadata": {},
   "outputs": [
    {
     "name": "stdout",
     "output_type": "stream",
     "text": [
      "car\t0\t1\t4\t9\t16\t\n",
      "bus\t1\t4\t9\t16\t25\t\n",
      "train\t4\t9\t16\t25\t36\t\n",
      "boat\t9\t16\t25\t36\t49\t\n"
     ]
    }
   ],
   "source": [
    "for line in L:\n",
    "    for item in line:\n",
    "        print(item, end=\"\\t\")\n",
    "    print()"
   ]
  },
  {
   "cell_type": "code",
   "execution_count": 5,
   "id": "cc964270",
   "metadata": {},
   "outputs": [
    {
     "name": "stdout",
     "output_type": "stream",
     "text": [
      "\tcar\t0\t1\t4\t9\t16\n",
      "\tbus\t1\t4\t9\t16\t25\n",
      "\ttrain\t4\t9\t16\t25\t36\n",
      "\tboat\t9\t16\t25\t36\t49\n",
      "\n"
     ]
    }
   ],
   "source": [
    "str_to_print = \"\"\n",
    "for line in L:\n",
    "    for item in line:\n",
    "        str_to_print += \"\\t\"\n",
    "        str_to_print += str(item)\n",
    "    str_to_print += \"\\n\"\n",
    "        \n",
    "print(str_to_print)"
   ]
  },
  {
   "cell_type": "code",
   "execution_count": 6,
   "id": "27a7b5f0",
   "metadata": {},
   "outputs": [
    {
     "name": "stdout",
     "output_type": "stream",
     "text": [
      "car\t0\t1\t4\t9\t16\n",
      "bus\t1\t4\t9\t16\t25\n",
      "train\t4\t9\t16\t25\t36\n",
      "boat\t9\t16\t25\t36\t49\n"
     ]
    }
   ],
   "source": [
    "for line in L:\n",
    "    print( * line, sep = '\\t')"
   ]
  },
  {
   "cell_type": "code",
   "execution_count": 7,
   "id": "6d83896f",
   "metadata": {},
   "outputs": [],
   "source": [
    "#For the following list of dictionaries, write a script that add a field registrations which is twice the number of accepted papers."
   ]
  },
  {
   "cell_type": "code",
   "execution_count": 8,
   "id": "f66fd6e7",
   "metadata": {},
   "outputs": [
    {
     "data": {
      "text/plain": [
       "[{'Name': 'NeurIPS',\n",
       "  'Date': 2016,\n",
       "  'Location': 'Barcelona',\n",
       "  'acc_papers': 300,\n",
       "  'registrations': 600},\n",
       " {'Name': 'ICML',\n",
       "  'Date': 2016,\n",
       "  'Location': 'New York City',\n",
       "  'acc_papers': 450,\n",
       "  'registrations': 900},\n",
       " {'Name': 'ICML',\n",
       "  'Date': 2015,\n",
       "  'Location': 'Lille',\n",
       "  'acc_papers': 250,\n",
       "  'registrations': 500},\n",
       " {'Name': 'AISTATS',\n",
       "  'Date': 2016,\n",
       "  'Location': 'Cadiz',\n",
       "  'acc_papers': 100,\n",
       "  'registrations': 200}]"
      ]
     },
     "execution_count": 8,
     "metadata": {},
     "output_type": "execute_result"
    }
   ],
   "source": [
    "confs = [{\"Name\": \"NeurIPS\", \"Date\": 2016, \"Location\": \"Barcelona\", \"acc_papers\": 300},\n",
    "             {\"Name\": \"ICML\", \"Date\": 2016, \"Location\": \"New York City\", \"acc_papers\": 450},\n",
    "             {\"Name\": \"ICML\", \"Date\": 2015, \"Location\": \"Lille\", \"acc_papers\": 250},\n",
    "             {\"Name\": \"AISTATS\", \"Date\": 2016, \"Location\": \"Cadiz\", \"acc_papers\": 100}]\n",
    "for conf in confs:\n",
    "    conf[\"registrations\"] = conf[\"acc_papers\"] * 2\n",
    "    \n",
    "confs"
   ]
  },
  {
   "cell_type": "code",
   "execution_count": 9,
   "id": "a5a50d07",
   "metadata": {},
   "outputs": [],
   "source": [
    "#Write a function include, that produces the following results:\n",
    "\n",
    "#>>> l = [0]\n",
    "#>>> include(l, 2)\n",
    "#>>> print(l)\n",
    "#[0, 2]\n",
    "#>>> include(l, \"-1\")\n",
    "#>>> print(l)\n",
    "#[0, 2, '-1']\n",
    "#>>> include(l)\n",
    "#>>> print(l)\n",
    "#[]"
   ]
  },
  {
   "cell_type": "code",
   "execution_count": 11,
   "id": "17c864a5",
   "metadata": {},
   "outputs": [
    {
     "name": "stdout",
     "output_type": "stream",
     "text": [
      "[0, 2]\n",
      "[0, 2, '-1']\n",
      "[]\n"
     ]
    }
   ],
   "source": [
    "def include(l, item = None):\n",
    "    if item is None:\n",
    "        del l[:]\n",
    "    else:\n",
    "        l.append(item)\n",
    "l = [0]\n",
    "include(l, 2)\n",
    "print(l)\n",
    "include(l, \"-1\")\n",
    "print(l)\n",
    "include(l)\n",
    "print(l)"
   ]
  },
  {
   "cell_type": "code",
   "execution_count": 12,
   "id": "3d60fe88",
   "metadata": {},
   "outputs": [
    {
     "name": "stdout",
     "output_type": "stream",
     "text": [
      "[0, 2]\n",
      "[0, 2, '-1']\n",
      "[]\n"
     ]
    }
   ],
   "source": [
    "def include(l, item = None):\n",
    "    if item is None:\n",
    "        l.clear()\n",
    "    else:\n",
    "        l.append(item)\n",
    "l = [0]\n",
    "include(l, 2)\n",
    "print(l)\n",
    "include(l, \"-1\")\n",
    "print(l)\n",
    "include(l)\n",
    "print(l)"
   ]
  },
  {
   "cell_type": "code",
   "execution_count": 21,
   "id": "ace36faa",
   "metadata": {},
   "outputs": [
    {
     "data": {
      "text/plain": [
       "610"
      ]
     },
     "execution_count": 21,
     "metadata": {},
     "output_type": "execute_result"
    }
   ],
   "source": [
    "#Create a module, that contains a function fibonacci(n) computing the nth\n",
    "#Fibonacci number. Then create a script using this function.\n",
    "\n",
    "def fibonacci_rec(n): # recursive approach\n",
    "    if n < 0:\n",
    "        raise ValueError(\"Negative arguments not implemented\")\n",
    "    elif n == 0:\n",
    "        return 0\n",
    "    elif n == 1:\n",
    "        return 1\n",
    "    else:\n",
    "        return fibonacci_rec(n-1) + fibonacci_rec(n-2)\n",
    "fibonacci_rec(15)"
   ]
  },
  {
   "cell_type": "code",
   "execution_count": 15,
   "id": "f6730b54",
   "metadata": {},
   "outputs": [
    {
     "data": {
      "text/plain": [
       "55"
      ]
     },
     "execution_count": 15,
     "metadata": {},
     "output_type": "execute_result"
    }
   ],
   "source": [
    "def fibonacci_ite(n): # iterative approach\n",
    "    if n < 0:\n",
    "        raise ValueError(\"Negative arguments not implemented\")\n",
    "    F = [0, 1]\n",
    "    for i in range(1, n):\n",
    "        F.append(F[i] + F[i-1])\n",
    "    return F[n]\n",
    "fibonacci_ite(10)"
   ]
  },
  {
   "cell_type": "code",
   "execution_count": 16,
   "id": "4c4804c3",
   "metadata": {},
   "outputs": [],
   "source": [
    "#Change the class Point (the toy example bellow) in order to take account a 3rd coordinate z.\n",
    "\n",
    "#class Point:\n",
    "#    def __init__(self, x, y):          \n",
    "#        self.x = x                     \n",
    "#        self.y = y                     \n",
    "#        self.norm = self.compute_norm()\n",
    "\n",
    "#    def compute_norm(self):\n",
    "#        norm = (self.x**2 + self.y**2)**(0.5) \n",
    "#        return norm\n",
    "\n",
    "#    def __add__(self, another_point) :\n",
    "#         return Point(self.x + another_point.x, self.y + another_point.y)\n",
    "\n",
    "#Then execute the following script.\n",
    "\n",
    "#p1 = Point(1, -1, 1)\n",
    "#p2 = Point(1, 1, 3)\n",
    "#p3 = p1 + p2\n",
    "\n",
    "#print(f\"p1 = ({p1.x}, {p1.y}, {p1.z})\")\n",
    "#print(f\"p2 = ({p2.x}, {p2.y}, {p2.z})\")\n",
    "#print(f\"p3 = ({p3.x}, {p3.y}, {p3.z})\")"
   ]
  },
  {
   "cell_type": "code",
   "execution_count": 19,
   "id": "f8675b64",
   "metadata": {},
   "outputs": [
    {
     "name": "stdout",
     "output_type": "stream",
     "text": [
      "p1 = (1, -1, 1)\n",
      "p2 = (1, 1, 3)\n",
      "p3 = (2, 0, 4)\n"
     ]
    }
   ],
   "source": [
    "class Point:\n",
    "    def __init__(self, x, y, z):           # add a new argument: z\n",
    "        self.x = x\n",
    "        self.y = y\n",
    "        self.z = z                         # initialize the attribute z\n",
    "        self.norm = self.compute_norm()\n",
    "\n",
    "    def compute_norm(self):\n",
    "        norm = (self.x**2 + self.y**2 + self.z**2)**(0.5) # for the norm computation, take z into account\n",
    "        return norm\n",
    "\n",
    "    def __add__(self, another_point):      # dont forget to add the 3rd coordinate\n",
    "         return Point(self.x + another_point.x, self.y + another_point.y, self.z + another_point.z)\n",
    "        \n",
    "p1 = Point(1, -1, 1)\n",
    "p2 = Point(1, 1, 3)\n",
    "p3 = p1 + p2\n",
    "\n",
    "print(f\"p1 = ({p1.x}, {p1.y}, {p1.z})\")\n",
    "print(f\"p2 = ({p2.x}, {p2.y}, {p2.z})\")\n",
    "print(f\"p3 = ({p3.x}, {p3.y}, {p3.z})\")"
   ]
  },
  {
   "cell_type": "code",
   "execution_count": null,
   "id": "f816fda2",
   "metadata": {},
   "outputs": [],
   "source": []
  }
 ],
 "metadata": {
  "kernelspec": {
   "display_name": "Python 3",
   "language": "python",
   "name": "python3"
  },
  "language_info": {
   "codemirror_mode": {
    "name": "ipython",
    "version": 3
   },
   "file_extension": ".py",
   "mimetype": "text/x-python",
   "name": "python",
   "nbconvert_exporter": "python",
   "pygments_lexer": "ipython3",
   "version": "3.8.8"
  }
 },
 "nbformat": 4,
 "nbformat_minor": 5
}
