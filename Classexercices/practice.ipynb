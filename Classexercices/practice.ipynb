{
 "cells": [
  {
   "cell_type": "code",
   "execution_count": 232,
   "id": "621a36b0",
   "metadata": {},
   "outputs": [],
   "source": [
    "import numpy as np\n",
    "import matplotlib.pyplot as plt"
   ]
  },
  {
   "cell_type": "code",
   "execution_count": 16,
   "id": "1877eb76",
   "metadata": {},
   "outputs": [
    {
     "data": {
      "text/plain": [
       "array([[1, 0, 0, 0, 0, 0],\n",
       "       [0, 1, 0, 0, 0, 0],\n",
       "       [0, 0, 2, 0, 0, 0],\n",
       "       [0, 0, 0, 5, 0, 0],\n",
       "       [0, 0, 0, 0, 6, 0],\n",
       "       [0, 0, 0, 0, 0, 8]])"
      ]
     },
     "execution_count": 16,
     "metadata": {},
     "output_type": "execute_result"
    }
   ],
   "source": [
    "np.diag([1, 1, 2, 5, 6, 8])"
   ]
  },
  {
   "cell_type": "code",
   "execution_count": 14,
   "id": "19dfa32e",
   "metadata": {},
   "outputs": [
    {
     "data": {
      "text/plain": [
       "array([[1., 0., 0., 0.],\n",
       "       [0., 1., 0., 0.],\n",
       "       [0., 0., 1., 0.],\n",
       "       [0., 0., 0., 1.]])"
      ]
     },
     "execution_count": 14,
     "metadata": {},
     "output_type": "execute_result"
    }
   ],
   "source": [
    "np.eye(4)"
   ]
  },
  {
   "cell_type": "code",
   "execution_count": 18,
   "id": "176ee9fb",
   "metadata": {},
   "outputs": [
    {
     "data": {
      "text/plain": [
       "array([ 0.  ,  1.25,  2.5 ,  3.75,  5.  ,  6.25,  7.5 ,  8.75, 10.  ])"
      ]
     },
     "execution_count": 18,
     "metadata": {},
     "output_type": "execute_result"
    }
   ],
   "source": [
    "np.linspace(0, 10, num=9)"
   ]
  },
  {
   "cell_type": "code",
   "execution_count": 21,
   "id": "81462b76",
   "metadata": {},
   "outputs": [
    {
     "data": {
      "text/plain": [
       "0.7441762772509383"
      ]
     },
     "execution_count": 21,
     "metadata": {},
     "output_type": "execute_result"
    }
   ],
   "source": [
    "type(np.random)\n",
    "np.random.rand()"
   ]
  },
  {
   "cell_type": "code",
   "execution_count": 23,
   "id": "ab64df34",
   "metadata": {},
   "outputs": [
    {
     "data": {
      "text/plain": [
       "array([[0.26189433, 0.09610637],\n",
       "       [0.10777925, 0.07984667],\n",
       "       [0.89055994, 0.614219  ]])"
      ]
     },
     "execution_count": 23,
     "metadata": {},
     "output_type": "execute_result"
    }
   ],
   "source": [
    "np.random.rand(3,2)"
   ]
  },
  {
   "cell_type": "code",
   "execution_count": 27,
   "id": "1a36aa03",
   "metadata": {},
   "outputs": [
    {
     "name": "stdout",
     "output_type": "stream",
     "text": [
      "[[ 0  4  8 12 16]\n",
      " [ 1  5  9 13 17]\n",
      " [ 2  6 10 14 18]\n",
      " [ 3  7 11 15 19]]\n",
      "9.5\n"
     ]
    }
   ],
   "source": [
    "arr = np.arange(0, 20)\n",
    "arr1 = arr.reshape((4, 5), order='F')\n",
    "np.mean(arr1) # calculates the mean of the array x\n",
    "\n",
    "print(arr1)\n",
    "print(arr1.mean())"
   ]
  },
  {
   "cell_type": "code",
   "execution_count": 26,
   "id": "2f268541",
   "metadata": {},
   "outputs": [],
   "source": [
    "x = np.asarray([1,2,3,4], dtype=np.float64)\n",
    "\n",
    "np.mean(x) # calculates the mean of the array x\n",
    "x-np.mean(x) # this is euivalent to subtracting the mean of x from each value in x\n",
    "x-=np.mean(x) # the -= means can be read as x = x- np.mean(x)\n",
    "\n",
    "np.std(x) # this calcualtes the standard deviation of the array\n",
    "x/=np.std(x) # the /= means can be read as x = x/np.std(x)"
   ]
  },
  {
   "cell_type": "code",
   "execution_count": 28,
   "id": "ce0a4769",
   "metadata": {},
   "outputs": [
    {
     "data": {
      "text/plain": [
       "array([ 1.54737334e-16, -1.88737914e-16,  2.66453526e-16,  2.44249065e-16,\n",
       "        2.94209102e-16, -1.99840144e-16,  1.77635684e-16,  1.99840144e-16,\n",
       "        2.22044605e-17,  8.32667268e-17])"
      ]
     },
     "execution_count": 28,
     "metadata": {},
     "output_type": "execute_result"
    }
   ],
   "source": [
    "eg_array = 5 + (np.random.randn(10, 10) * 2)\n",
    "normed = (eg_array - eg_array.mean(axis=0)) / eg_array.std(axis=0)\n",
    "\n",
    "normed.mean(axis=0)"
   ]
  },
  {
   "cell_type": "code",
   "execution_count": 36,
   "id": "046e57c7",
   "metadata": {},
   "outputs": [
    {
     "name": "stdout",
     "output_type": "stream",
     "text": [
      "[[ 0  4  8 12 16]\n",
      " [ 1  5  9 13 17]\n",
      " [ 2  6 10 14 18]\n",
      " [ 3  7 11 15 19]]\n",
      "9.5\n",
      "[[-1.34164079 -1.34164079 -1.34164079 -1.34164079 -1.34164079]\n",
      " [-0.4472136  -0.4472136  -0.4472136  -0.4472136  -0.4472136 ]\n",
      " [ 0.4472136   0.4472136   0.4472136   0.4472136   0.4472136 ]\n",
      " [ 1.34164079  1.34164079  1.34164079  1.34164079  1.34164079]]\n",
      "[0. 0. 0. 0. 0.]\n",
      "[1. 1. 1. 1. 1.]\n"
     ]
    }
   ],
   "source": [
    "arr = np.arange(0, 20)\n",
    "arr1 = arr.reshape((4, 5), order='F')\n",
    "print(arr1)\n",
    "\n",
    "np.mean(arr1) # calculates the mean of the array arr1\n",
    "print(arr1.mean())\n",
    "\n",
    "#the mean of each column is 0\n",
    "normed = (arr1 - arr1.mean(axis=0)) / arr1.std(axis=0)\n",
    "print(normed)\n",
    "print(normed.mean(axis=0))\n",
    "\n",
    "\n",
    "#the standard deviation of each column is 1\n",
    "normed.std(axis=0)\n",
    "print(normed.std(axis=0))"
   ]
  },
  {
   "cell_type": "code",
   "execution_count": 37,
   "id": "c23ea9b9",
   "metadata": {},
   "outputs": [],
   "source": [
    "#a[start:stop]  # items start through stop-1\n",
    "#a[start:]      # items start through the rest of the array\n",
    "#a[:stop]       # items from the beginning through stop-1\n",
    "#a[:]           # a copy of the whole array\n",
    "\n",
    "#a[start:stop:step] # start through not past stop, by step\n",
    "\n",
    "#a[-1]    # last item in the array\n",
    "#a[-2:]   # last two items in the array\n",
    "#a[:-2]   # everything except the last two items\n",
    "\n",
    "#a[::-1]    # all items in the array, reversed\n",
    "#a[1::-1]   # the first two items, reversed\n",
    "#a[:-3:-1]  # the last two items, reversed\n",
    "#a[-3::-1]  # everything except the last two items, reversed\n",
    "\n",
    "#a[start:stop:step] is equivalent to: a[slice(start, stop, step)]"
   ]
  },
  {
   "cell_type": "code",
   "execution_count": 51,
   "id": "f19a0a02",
   "metadata": {},
   "outputs": [
    {
     "name": "stdout",
     "output_type": "stream",
     "text": [
      "[[ 0  4  8 12 16]\n",
      " [ 1  5  9 13 17]\n",
      " [ 2  6 10 14 18]\n",
      " [ 3  7 11 15 19]]\n",
      "[[ 6 18 10]\n",
      " [ 7 19 11]\n",
      " [ 5 17  9]]\n"
     ]
    }
   ],
   "source": [
    "arr = np.arange(0, 20)\n",
    "arr1 = arr.reshape((4, 5), order='F')\n",
    "print(arr1)\n",
    "\n",
    "#Extract the following\n",
    "#[[ 6 18 10]\n",
    "# [ 7 19 11]\n",
    "# [ 5 17 9]]\n",
    "\n",
    "a = arr1[[2, 3, 1], :]\n",
    "#b = arr1[[2, 3, 0], :]\n",
    "a = a[:, [1, 4, 2]]\n",
    "\n",
    "print(a)\n",
    "#print(b)"
   ]
  },
  {
   "cell_type": "code",
   "execution_count": 93,
   "id": "e25a4788",
   "metadata": {},
   "outputs": [
    {
     "name": "stdout",
     "output_type": "stream",
     "text": [
      "[[0, 1], [1, 0]]\n",
      "[[-5  1 -5  1 -5  1]\n",
      " [ 1 -5  1 -5  1 -5]\n",
      " [-5  1 -5  1 -5  1]\n",
      " [ 1 -5  1 -5  1 -5]\n",
      " [-5  1 -5  1 -5  1]\n",
      " [ 1 -5  1 -5  1 -5]]\n"
     ]
    }
   ],
   "source": [
    "arr = [[0, 1], [1, 0]]\n",
    "\n",
    "arr3 = np.tile(arr, (3, 3))\n",
    "arr3[arr3 == 0] = -5\n",
    "print(arr)\n",
    "print(arr3)\n",
    "#print(np.tile(arr3, (2, 3)) ) # 2 repetitions in line, 3 in column"
   ]
  },
  {
   "cell_type": "code",
   "execution_count": 134,
   "id": "388329a1",
   "metadata": {},
   "outputs": [
    {
     "name": "stdout",
     "output_type": "stream",
     "text": [
      "[[ 6 18 16]\n",
      " [ 4  5  6]]\n",
      "[[ 6 18 16]\n",
      " [ 4  5  6]]\n",
      "[[ 6 -1 -2]\n",
      " [ 4  5  6]]\n"
     ]
    }
   ],
   "source": [
    "#arr = np.random.rand(20)\n",
    "arr = np.random.randint(0, 20, (2, 3))\n",
    "print(arr)\n",
    "#arr.resize(4,3)\n",
    "print(arr)\n",
    "arr[arr==arr.max()] = -1\n",
    "arr[arr==arr.max()] = -2\n",
    "#arr[arr==arr.argmax()] = -1\n",
    "print(arr)"
   ]
  },
  {
   "cell_type": "code",
   "execution_count": 135,
   "id": "fb5b45c2",
   "metadata": {},
   "outputs": [
    {
     "data": {
      "text/plain": [
       "array([[ 4,  5,  3, -1,  1],\n",
       "       [-1,  1, -1, -1,  5],\n",
       "       [ 1,  6,  3,  2,  7],\n",
       "       [ 5,  1,  1,  5,  1],\n",
       "       [ 8,  8,  8, -1,  5]])"
      ]
     },
     "execution_count": 135,
     "metadata": {},
     "output_type": "execute_result"
    }
   ],
   "source": [
    "R = np.array([[ 4,  5,  3, 10,  1],[10,  1, 10, 10,  5],[ 1,  6,  3,  2,  7],[ 5,  1,  1,  5,  1],[ 8,  8,  8, 10,  5]])\n",
    "#R = L.copy()\n",
    "R[R==R.max()]=-1\n",
    "R"
   ]
  },
  {
   "cell_type": "code",
   "execution_count": 145,
   "id": "a9f63210",
   "metadata": {},
   "outputs": [
    {
     "name": "stdout",
     "output_type": "stream",
     "text": [
      "[[0.29048579 0.49069994 0.23046145]\n",
      " [0.90042365 0.18928777 0.50988023]\n",
      " [0.48188224 0.97544021 0.54235025]]\n",
      "[[0.08438199 0.44183783 0.11105528]\n",
      " [0.44183783 0.03582986 0.49735768]\n",
      " [0.11105528 0.49735768 0.29414379]]\n",
      "[0.82168665 0.61264926 0.26881114]\n",
      "[ 6.28031376  1.78533966 -4.47605321]\n",
      "the linear system \"Ax=b\" is:\n"
     ]
    },
    {
     "data": {
      "text/plain": [
       "True"
      ]
     },
     "execution_count": 145,
     "metadata": {},
     "output_type": "execute_result"
    }
   ],
   "source": [
    "#Let A be a matrix and b be a vector defined by:\n",
    "#>>> V = np.random.rand(3, 3)\n",
    "#>>> A = V + V.T\n",
    "#>>> b = np.random.rand(3)\n",
    "\n",
    "#Solve the linear system Ax=b\n",
    "\n",
    "V = np.random.rand(3, 3)\n",
    "print(V)\n",
    "A = (V * (V.T))\n",
    "print(A)\n",
    "b = np.random.rand(3)\n",
    "print(b)\n",
    "\n",
    "x = np.linalg.solve(A, b)\n",
    "print(x)\n",
    "\n",
    "print('the linear system \"Ax=b\" is:')\n",
    "np.allclose(np.dot(A, x), b)\n"
   ]
  },
  {
   "cell_type": "code",
   "execution_count": 173,
   "id": "a9d20235",
   "metadata": {},
   "outputs": [
    {
     "name": "stdout",
     "output_type": "stream",
     "text": [
      "[  0  36 144 324 576]\n",
      "[[  0  25 100 225 400]\n",
      " [  1  36 121 256 441]\n",
      " [  4  49 144 289 484]\n",
      " [  9  64 169 324 529]\n",
      " [ 16  81 196 361 576]]\n"
     ]
    },
    {
     "data": {
      "text/plain": [
       "array([  0,  36, 144, 324, 576])"
      ]
     },
     "execution_count": 173,
     "metadata": {},
     "output_type": "execute_result"
    }
   ],
   "source": [
    "arr = np.arange(0, 25)\n",
    "arr1 = arr.reshape((5, 5), order='F')\n",
    "arrayf = arr1*arr1\n",
    "\n",
    "print(arrayf)\n",
    "arrayf.diagonal()\n"
   ]
  },
  {
   "cell_type": "code",
   "execution_count": 194,
   "id": "fd2cf882",
   "metadata": {},
   "outputs": [
    {
     "name": "stdout",
     "output_type": "stream",
     "text": [
      "[[225 100  25]\n",
      " [289 144  49]\n",
      " [256 121  36]]\n"
     ]
    }
   ],
   "source": [
    "#[[225 100  25]\n",
    "# [289 144  49]\n",
    "# [256 121  36]]\n",
    "\n",
    "arr = np.arange(0, 25)\n",
    "arr1 = arr.reshape((5, 5), order='F')\n",
    "arrayf = arr1*arr1\n",
    "\n",
    "#print(arrayf)\n",
    "\n",
    "a = arrayf[[0, 2, 1], :]\n",
    "arrayt = a[:, [3, 2, 1]]\n",
    "print(arrayt)\n"
   ]
  },
  {
   "cell_type": "code",
   "execution_count": 207,
   "id": "df5a5264",
   "metadata": {},
   "outputs": [
    {
     "name": "stdout",
     "output_type": "stream",
     "text": [
      "[[ 0  5 10 15 20]\n",
      " [ 1  6 11 16 21]\n",
      " [ 2  7 12 17 22]\n",
      " [ 3  8 13 18 23]\n",
      " [ 4  9 14 19 24]]\n",
      "[[ 0  0 10 15 20]\n",
      " [ 1  6 11 16 21]\n",
      " [ 2  7 12 17 22]\n",
      " [ 3  8 13 18 23]\n",
      " [ 4  9 14 19 24]]\n"
     ]
    }
   ],
   "source": [
    "arr = np.arange(0, 25)\n",
    "arr1 = arr.reshape((5, 5), order='F')\n",
    "print(arr1)\n",
    "arr1[arr1/5==1] = 0\n",
    "print(arr1)"
   ]
  },
  {
   "cell_type": "code",
   "execution_count": 208,
   "id": "af12fd04",
   "metadata": {},
   "outputs": [
    {
     "ename": "SyntaxError",
     "evalue": "invalid syntax (<ipython-input-208-9c492d3085a6>, line 1)",
     "output_type": "error",
     "traceback": [
      "\u001b[1;36m  File \u001b[1;32m\"<ipython-input-208-9c492d3085a6>\"\u001b[1;36m, line \u001b[1;32m1\u001b[0m\n\u001b[1;33m    [[10  9  8  7  6]\u001b[0m\n\u001b[1;37m          ^\u001b[0m\n\u001b[1;31mSyntaxError\u001b[0m\u001b[1;31m:\u001b[0m invalid syntax\n"
     ]
    }
   ],
   "source": [
    "[[10  9  8  7  6]\n",
    " [ 9  8  7  6  5]\n",
    " [ 8  7  6  5  4]\n",
    " [ 7  6  5  4  3]\n",
    " [ 6  5  4  3  2]]"
   ]
  },
  {
   "cell_type": "code",
   "execution_count": 228,
   "id": "a8b5867c",
   "metadata": {},
   "outputs": [
    {
     "name": "stdout",
     "output_type": "stream",
     "text": [
      "[5 4 3 2 1]\n",
      "[[10  9  8  7  6]\n",
      " [ 9  8  7  6  5]\n",
      " [ 8  7  6  5  4]\n",
      " [ 7  6  5  4  3]\n",
      " [ 6  5  4  3  2]]\n"
     ]
    }
   ],
   "source": [
    "arr = np.arange(5, 0, -1)\n",
    "print(arr)\n",
    "arr2 = np.tile(arr, (5, 1)).T + arr #5 repetitions in line, 1 in column\n",
    "print(arr2)"
   ]
  },
  {
   "cell_type": "code",
   "execution_count": 230,
   "id": "b02af2f9",
   "metadata": {},
   "outputs": [
    {
     "name": "stdout",
     "output_type": "stream",
     "text": [
      "[[ 1  2  3  4  5]\n",
      " [ 6  7  8  9 10]\n",
      " [11 12 13 14 15]\n",
      " [16 17 18 19 20]]\n",
      "True\n",
      "False\n",
      "False\n",
      "True\n"
     ]
    }
   ],
   "source": [
    "arr = np.array([[1, 2, 3, 4, 5],\n",
    "                   [6, 7, 8, 9, 10],\n",
    "                   [11, 12, 13, 14, 15],\n",
    "                   [16, 17, 18, 19, 20]\n",
    "                   ])\n",
    "  \n",
    "# view array\n",
    "print(arr)\n",
    "  \n",
    "# check for some lists\n",
    "print([1, 2, 3, 4, 5] in arr.tolist())\n",
    "print([16, 17, 20, 19, 18] in arr.tolist())\n",
    "print([3, 2, 5, -4, 5] in arr.tolist())\n",
    "print([11, 12, 13, 14, 15] in arr.tolist())"
   ]
  },
  {
   "cell_type": "code",
   "execution_count": 231,
   "id": "2afe16e0",
   "metadata": {},
   "outputs": [
    {
     "name": "stdout",
     "output_type": "stream",
     "text": [
      "4\n"
     ]
    }
   ],
   "source": [
    "\n",
    "  \n",
    "# create numpy array\n",
    "arr = np.array([[2, 8, 9, 4], \n",
    "                   [9, 4, 9, 4],\n",
    "                   [4, 5, 9, 7],\n",
    "                   [2, 9, 4, 3]])\n",
    "  \n",
    "# Counting sequence\n",
    "output = repr(arr).count(\"9, 4\")\n",
    "  \n",
    "# view output\n",
    "print(output)"
   ]
  },
  {
   "cell_type": "code",
   "execution_count": 239,
   "id": "00b8e895",
   "metadata": {},
   "outputs": [
    {
     "name": "stdout",
     "output_type": "stream",
     "text": [
      "[0.  0.1 0.2 0.3 0.4 0.5 0.6 0.7 0.8 0.9 1.  1.1 1.2 1.3 1.4 1.5 1.6 1.7\n",
      " 1.8 1.9 2.  2.1 2.2 2.3 2.4 2.5 2.6 2.7 2.8 2.9 3.  3.1 3.2 3.3 3.4 3.5\n",
      " 3.6 3.7 3.8 3.9 4.  4.1 4.2 4.3 4.4 4.5 4.6 4.7 4.8 4.9 5.  5.1 5.2 5.3\n",
      " 5.4 5.5 5.6 5.7 5.8 5.9 6.  6.1 6.2]\n"
     ]
    },
    {
     "data": {
      "image/png": "[encoded data removed]",
      "text/plain": [
       "<Figure size 432x288 with 1 Axes>"
      ]
     },
     "metadata": {
      "needs_background": "light"
     },
     "output_type": "display_data"
    }
   ],
   "source": [
    "x = np.arange(0, 2*np.pi, 0.1)# define the horizontal axis (or x axis)\n",
    "\n",
    "print(x)\n",
    "y1 = np.sin(x)                  # define the vertical axis (or y axis)\n",
    "y2 = np.cos(x)                  # define the vertical axis (or y axis)\n",
    "plt.plot(x, y1, linestyle='dashed', color=\"red\", linewidth=1);\n",
    "plt.plot(x, y2); "
   ]
  },
  {
   "cell_type": "code",
   "execution_count": 267,
   "id": "2e2ae70f",
   "metadata": {},
   "outputs": [
    {
     "name": "stdout",
     "output_type": "stream",
     "text": [
      "[0.  0.1 0.2 0.3 0.4 0.5 0.6 0.7 0.8 0.9 1.  1.1 1.2 1.3 1.4 1.5 1.6 1.7\n",
      " 1.8 1.9 2.  2.1 2.2 2.3 2.4 2.5 2.6 2.7 2.8 2.9 3.  3.1 3.2 3.3 3.4 3.5\n",
      " 3.6 3.7 3.8 3.9 4.  4.1 4.2 4.3 4.4 4.5 4.6 4.7 4.8 4.9 5.  5.1 5.2 5.3\n",
      " 5.4 5.5 5.6 5.7 5.8 5.9 6.  6.1 6.2 6.3 6.4 6.5 6.6 6.7 6.8 6.9 7.  7.1\n",
      " 7.2 7.3 7.4 7.5 7.6 7.7 7.8 7.9]\n"
     ]
    },
    {
     "name": "stderr",
     "output_type": "stream",
     "text": [
      "<ipython-input-267-0d2bfb5d5be2>:6: RuntimeWarning: divide by zero encountered in log\n",
      "  y2 = np.log(x)                  # define the vertical axis (or y axis)\n"
     ]
    },
    {
     "data": {
      "text/plain": [
       "<matplotlib.collections.PolyCollection at 0x1a2d29e9400>"
      ]
     },
     "execution_count": 267,
     "metadata": {},
     "output_type": "execute_result"
    },
    {
     "data": {
      "image/png": "[encoded data removed]",
      "text/plain": [
       "<Figure size 1080x360 with 1 Axes>"
      ]
     },
     "metadata": {
      "needs_background": "light"
     },
     "output_type": "display_data"
    }
   ],
   "source": [
    "plt.figure(figsize=(15, 5)) \n",
    "x = np.arange(0, 8, 0.1)# define the horizontal axis (or x axis)\n",
    "\n",
    "print(x)\n",
    "y1 = np.sin(x)                  # define the vertical axis (or y axis)\n",
    "y2 = np.log(x)                  # define the vertical axis (or y axis)\n",
    "plt.plot(x, y1, linestyle='dashed', color=\"green\", linewidth=1);\n",
    "plt.plot(x, y2, linestyle='dashed', color=\"red\", linewidth=1); \n",
    "plt.fill_between(x, y2, y1, color=\"blue\", alpha=0.7)\n",
    "#plt.xlim(0, 8)\n",
    "#plt.ylim(-2, 2)"
   ]
  },
  {
   "cell_type": "code",
   "execution_count": 262,
   "id": "f5d49887",
   "metadata": {},
   "outputs": [
    {
     "data": {
      "image/png": "[encoded data removed]",
      "text/plain": [
       "<Figure size 1080x720 with 3 Axes>"
      ]
     },
     "metadata": {
      "needs_background": "light"
     },
     "output_type": "display_data"
    }
   ],
   "source": [
    "plt.figure(figsize=(15, 10))\n",
    "\n",
    "plt.subplot(2, 2, 1)           # add an Axes and place the plot in the **first** position of the grid 2x2\n",
    "plt.plot(x, y1, label=\"sin\", color=\"red\")\n",
    "plt.plot(x, y2, label=\"cos\", color=\"green\")\n",
    "plt.grid()\n",
    "\n",
    "plt.subplot(2, 2, 2) # add an Axes and place the plot in the **second** position of the grid 2x2\n",
    "n = 50\n",
    "x_scatter = np.random.rand(n)\n",
    "y_scatter = np.random.rand(n)\n",
    "plt.scatter(x_scatter, y_scatter, c=\"green\", alpha=0.4, marker=\"o\", s=10);\n",
    "plt.title(\"Just some random points with random sizes\")\n",
    "\n",
    "plt.subplot(2, 2, 3)\n",
    "n = 5000                                 # number of points\n",
    "mu = 100                                 # mean of distribution\n",
    "sigma = 15                               # standard deviation of distribution\n",
    "sample = mu + sigma * np.random.randn(n) # we just have some random points around mu=100 and with a deviation of sigma = 15\n",
    "\n",
    "plt.hist(sample);"
   ]
  },
  {
   "cell_type": "code",
   "execution_count": 265,
   "id": "ca40f130",
   "metadata": {},
   "outputs": [
    {
     "name": "stdout",
     "output_type": "stream",
     "text": [
      "[0.1        0.13969849 0.17939698 0.21909548 0.25879397 0.29849246\n",
      " 0.33819095 0.37788945 0.41758794 0.45728643 0.49698492 0.53668342\n",
      " 0.57638191 0.6160804  0.65577889 0.69547739 0.73517588 0.77487437\n",
      " 0.81457286 0.85427136 0.89396985 0.93366834 0.97336683 1.01306533\n",
      " 1.05276382 1.09246231 1.1321608  1.1718593  1.21155779 1.25125628\n",
      " 1.29095477 1.33065327 1.37035176 1.41005025 1.44974874 1.48944724\n",
      " 1.52914573 1.56884422 1.60854271 1.64824121 1.6879397  1.72763819\n",
      " 1.76733668 1.80703518 1.84673367 1.88643216 1.92613065 1.96582915\n",
      " 2.00552764 2.04522613 2.08492462 2.12462312 2.16432161 2.2040201\n",
      " 2.24371859 2.28341709 2.32311558 2.36281407 2.40251256 2.44221106\n",
      " 2.48190955 2.52160804 2.56130653 2.60100503 2.64070352 2.68040201\n",
      " 2.7201005  2.75979899 2.79949749 2.83919598 2.87889447 2.91859296\n",
      " 2.95829146 2.99798995 3.03768844 3.07738693 3.11708543 3.15678392\n",
      " 3.19648241 3.2361809  3.2758794  3.31557789 3.35527638 3.39497487\n",
      " 3.43467337 3.47437186 3.51407035 3.55376884 3.59346734 3.63316583\n",
      " 3.67286432 3.71256281 3.75226131 3.7919598  3.83165829 3.87135678\n",
      " 3.91105528 3.95075377 3.99045226 4.03015075 4.06984925 4.10954774\n",
      " 4.14924623 4.18894472 4.22864322 4.26834171 4.3080402  4.34773869\n",
      " 4.38743719 4.42713568 4.46683417 4.50653266 4.54623116 4.58592965\n",
      " 4.62562814 4.66532663 4.70502513 4.74472362 4.78442211 4.8241206\n",
      " 4.8638191  4.90351759 4.94321608 4.98291457 5.02261307 5.06231156\n",
      " 5.10201005 5.14170854 5.18140704 5.22110553 5.26080402 5.30050251\n",
      " 5.34020101 5.3798995  5.41959799 5.45929648 5.49899497 5.53869347\n",
      " 5.57839196 5.61809045 5.65778894 5.69748744 5.73718593 5.77688442\n",
      " 5.81658291 5.85628141 5.8959799  5.93567839 5.97537688 6.01507538\n",
      " 6.05477387 6.09447236 6.13417085 6.17386935 6.21356784 6.25326633\n",
      " 6.29296482 6.33266332 6.37236181 6.4120603  6.45175879 6.49145729\n",
      " 6.53115578 6.57085427 6.61055276 6.65025126 6.68994975 6.72964824\n",
      " 6.76934673 6.80904523 6.84874372 6.88844221 6.9281407  6.9678392\n",
      " 7.00753769 7.04723618 7.08693467 7.12663317 7.16633166 7.20603015\n",
      " 7.24572864 7.28542714 7.32512563 7.36482412 7.40452261 7.44422111\n",
      " 7.4839196  7.52361809 7.56331658 7.60301508 7.64271357 7.68241206\n",
      " 7.72211055 7.76180905 7.80150754 7.84120603 7.88090452 7.92060302\n",
      " 7.96030151 8.        ]\n"
     ]
    },
    {
     "data": {
      "image/png": "[encoded data removed]",
      "text/plain": [
       "<Figure size 576x288 with 1 Axes>"
      ]
     },
     "metadata": {
      "needs_background": "light"
     },
     "output_type": "display_data"
    }
   ],
   "source": [
    "fig1, ax1 = plt.subplots(figsize=(8, 4))\n",
    "x = np.linspace(0.1, 8, 200)\n",
    "print(x)\n",
    "y1 = np.log(x)\n",
    "y2 = np.sin(x)\n",
    "ax1.plot(x, y1, color=\"red\", label=\"log\")\n",
    "ax1.plot(x, y2, color=\"green\", label=\"sin\")\n",
    "ax1.set_title(\"sine curve and logarithmic curve\")\n",
    "ax1.set_xlabel(\"x\")\n",
    "ax1.set_ylabel(\"y\")\n",
    "ax1.legend()\n",
    "ax1.fill_between(x, y1, y2, color=\"steelblue\", alpha=0.8);"
   ]
  },
  {
   "cell_type": "code",
   "execution_count": 288,
   "id": "1c39bfa1",
   "metadata": {},
   "outputs": [
    {
     "data": {
      "image/png": "[encoded data removed]",
      "text/plain": [
       "<Figure size 432x288 with 1 Axes>"
      ]
     },
     "metadata": {
      "needs_background": "light"
     },
     "output_type": "display_data"
    }
   ],
   "source": [
    "import numpy as np\n",
    "import matplotlib.pyplot as plt\n",
    "\n",
    "fig, ax = plt.subplots()\n",
    "\n",
    "theta = np.linspace(0, 2*np.pi, 100)\n",
    "r = np.sqrt(1.0)\n",
    "x1 = r*np.cos(theta)\n",
    "x2 = r*np.sin(theta)\n",
    "\n",
    "ax.plot(x1, x2)\n",
    "ax.set_aspect(1);\n",
    "\n",
    "n = 500\n",
    "x_scatter = -2 * np.random.rand(n) + 1\n",
    "y_scatter = -2 * np.random.rand(n) + 1\n",
    "\n",
    "#x_scatter = 2 * np.random.rand(n) - 1\n",
    "#y_scatter = 2 * np.random.rand(n) - 2\n",
    "\n",
    "# code for the color of each point\n",
    "colors = np.array([\"green\"]*n)\n",
    "colors[x_scatter**2 + y_scatter**2 > 1] = \"red\"\n",
    "\n",
    "# code for plotting scatter points\n",
    "ax.scatter(x_scatter, y_scatter, c=colors, marker=\"+\");\n",
    "\n",
    "#ax.scatter(x_scatter, y_scatter);"
   ]
  },
  {
   "cell_type": "code",
   "execution_count": 295,
   "id": "4f5f25d5",
   "metadata": {},
   "outputs": [
    {
     "name": "stdout",
     "output_type": "stream",
     "text": [
      "EPITA propose trois programmes spécialisés Master of Science dans un environnement international. Cette formation professionnalisante de 18 mois intégralement en anglais pour les étudiants français et internationaux, permet de se spécialiser dans un domaine après 3 ou 4 ans d’études.\n"
     ]
    }
   ],
   "source": [
    "list_of_strings = [\n",
    "    'EPITA', 'propose', 'trois', 'programmes',\n",
    "    'spécialisés', 'Master', 'of', 'Science', \n",
    "    'dans', 'un', 'environnement', 'international.',\n",
    "    'Cette', 'formation', 'professionnalisante', 'de',\n",
    "    '18', 'mois', 'intégralement', 'en', 'anglais',\n",
    "    'pour','les','étudiants','français', 'et', 'internationaux,', \n",
    "    'permet', 'de', 'se', 'spécialiser', 'dans', 'un', \n",
    "    'domaine', 'après', '3', 'ou', '4', 'ans', 'd’études.']\n",
    "\n",
    "\n",
    "text = ' '.join(word for word in list_of_strings)\n",
    "print(text)"
   ]
  },
  {
   "cell_type": "code",
   "execution_count": 297,
   "id": "10951fe3",
   "metadata": {},
   "outputs": [
    {
     "data": {
      "text/plain": [
       "'obytay ikeslay ishay artway'"
      ]
     },
     "execution_count": 297,
     "metadata": {},
     "output_type": "execute_result"
    }
   ],
   "source": [
    "word_list = [['obytay'], ['ikeslay'], ['ishay'], ['artway']]\n",
    "text = ' '.join(word[0] for word in word_list)\n",
    "text\n"
   ]
  },
  {
   "cell_type": "code",
   "execution_count": null,
   "id": "4a478ab2",
   "metadata": {},
   "outputs": [],
   "source": []
  }
 ],
 "metadata": {
  "kernelspec": {
   "display_name": "Python 3",
   "language": "python",
   "name": "python3"
  },
  "language_info": {
   "codemirror_mode": {
    "name": "ipython",
    "version": 3
   },
   "file_extension": ".py",
   "mimetype": "text/x-python",
   "name": "python",
   "nbconvert_exporter": "python",
   "pygments_lexer": "ipython3",
   "version": "3.8.8"
  }
 },
 "nbformat": 4,
 "nbformat_minor": 5
}
